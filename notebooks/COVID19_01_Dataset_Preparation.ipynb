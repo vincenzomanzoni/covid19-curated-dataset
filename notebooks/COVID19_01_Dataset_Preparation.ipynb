{
  "nbformat": 4,
  "nbformat_minor": 0,
  "metadata": {
    "colab": {
      "name": "COVID-19 - 01 Dataset Preparation.ipynb",
      "provenance": [],
      "collapsed_sections": [],
      "authorship_tag": "ABX9TyMFnfWF+y0/qvpakmJNKJby"
    },
    "kernelspec": {
      "name": "python3",
      "display_name": "Python 3"
    }
  },
  "cells": [
    {
      "cell_type": "markdown",
      "metadata": {
        "id": "hXeqRE2F4CTZ",
        "colab_type": "text"
      },
      "source": [
        "## Missing packages installation"
      ]
    },
    {
      "cell_type": "code",
      "metadata": {
        "id": "ly4lYJIocIdr",
        "colab_type": "code",
        "colab": {}
      },
      "source": [
        "!apt-get install openjdk-8-jdk-headless -qq > /dev/null\n",
        "!wget -q https://archive.apache.org/dist/spark/spark-2.4.5/spark-2.4.5-bin-hadoop2.7.tgz\n",
        "!tar xf spark-2.4.5-bin-hadoop2.7.tgz && rm spark-2.4.5-bin-hadoop2.7.tgz\n",
        "!pip install -q findspark\n",
        "\n",
        "# To see the commands outputs for debugging purpose:\n",
        "#   - Remove -qq > /dev/null from apt-get\n",
        "#   - Remove -q from wget\n",
        "#   - Remove -q from pip"
      ],
      "execution_count": 0,
      "outputs": []
    },
    {
      "cell_type": "markdown",
      "metadata": {
        "id": "nixvsSoP4KXF",
        "colab_type": "text"
      },
      "source": [
        "## Environment Configuration"
      ]
    },
    {
      "cell_type": "markdown",
      "metadata": {
        "id": "jCLKTNpd4ZtA",
        "colab_type": "text"
      },
      "source": [
        "### Environment Variables"
      ]
    },
    {
      "cell_type": "code",
      "metadata": {
        "id": "hrEP46uQcJbm",
        "colab_type": "code",
        "colab": {}
      },
      "source": [
        "import os\n",
        "os.environ[\"JAVA_HOME\"] = \"/usr/lib/jvm/java-8-openjdk-amd64\"\n",
        "os.environ[\"SPARK_HOME\"] = \"/content/spark-2.4.5-bin-hadoop2.7\""
      ],
      "execution_count": 0,
      "outputs": []
    },
    {
      "cell_type": "markdown",
      "metadata": {
        "id": "6Uzyq2h44egP",
        "colab_type": "text"
      },
      "source": [
        "## Spark Configuration"
      ]
    },
    {
      "cell_type": "code",
      "metadata": {
        "id": "mn3Yb60wcLO4",
        "colab_type": "code",
        "colab": {}
      },
      "source": [
        "import findspark\n",
        "findspark.init()\n",
        "from pyspark.sql import SparkSession\n",
        "spark = SparkSession.builder.master(\"local[*]\").getOrCreate()\n",
        "sc = spark.sparkContext"
      ],
      "execution_count": 0,
      "outputs": []
    },
    {
      "cell_type": "markdown",
      "metadata": {
        "id": "fRKT-QMF4k8A",
        "colab_type": "text"
      },
      "source": [
        "## Playground"
      ]
    },
    {
      "cell_type": "code",
      "metadata": {
        "id": "0x-MeIfKickj",
        "colab_type": "code",
        "colab": {}
      },
      "source": [
        "!mkdir .p Datasets/\n",
        "!wget -O  Datasets/dpc-covid19-ita-regioni.csv https://raw.githubusercontent.com/pcm-dpc/COVID-19/master/dati-regioni/dpc-covid19-ita-regioni.csv"
      ],
      "execution_count": 0,
      "outputs": []
    },
    {
      "cell_type": "code",
      "metadata": {
        "id": "Yt7ThzjWGzUA",
        "colab_type": "code",
        "colab": {}
      },
      "source": [
        "df_regioni_github = spark.read.csv('Datasets/dpc-covid19-ita-regioni.csv', inferSchema=True, header =True)"
      ],
      "execution_count": 0,
      "outputs": []
    },
    {
      "cell_type": "code",
      "metadata": {
        "id": "Pah1_eRBjnmM",
        "colab_type": "code",
        "colab": {}
      },
      "source": [
        "from pyspark.sql.functions import *\n",
        "\n",
        "df_italia = df_regioni_github.groupBy(\"data\").agg(\n",
        "      sum(\"ricoverati_con_sintomi\").alias(\"ricoverati_con_sintomi\"),\n",
        "      sum(\"terapia_intensiva\").alias(\"terapia_intensiva\"),\n",
        "      sum(\"totale_ospedalizzati\").alias(\"totale_ospedalizzati\"),\n",
        "      sum(\"isolamento_domiciliare\").alias(\"isolamento_domiciliare\"),\n",
        "      sum(\"totale_attualmente_positivi\").alias(\"totale_attualmente_positivi\"),\n",
        "      sum(\"nuovi_attualmente_positivi\").alias(\"nuovi_attualmente_positivi\"),\n",
        "      sum(\"dimessi_guariti\").alias(\"dimessi_guariti\"),\n",
        "      sum(\"deceduti\").alias(\"deceduti\"),\n",
        "      sum(\"totale_casi\").alias(\"totale_casi\"),\n",
        "      sum(\"tamponi\").alias(\"tamponi\")).withColumn(\"denominazione_regione\", lit(\"Italia\"))\n",
        "\n",
        "df_italia = df_italia.select(\"data\", \n",
        "                     \"denominazione_regione\", \n",
        "                     \"ricoverati_con_sintomi\",\n",
        "                     \"terapia_intensiva\",\n",
        "                     \"totale_ospedalizzati\",\n",
        "                     \"isolamento_domiciliare\",\n",
        "                     \"totale_attualmente_positivi\",\n",
        "                     \"nuovi_attualmente_positivi\",\n",
        "                     \"dimessi_guariti\",\n",
        "                     \"deceduti\",\n",
        "                     \"totale_casi\",\n",
        "                     \"tamponi\").orderBy(\"data\")"
      ],
      "execution_count": 0,
      "outputs": []
    },
    {
      "cell_type": "code",
      "metadata": {
        "id": "UFfQtS3bmUVA",
        "colab_type": "code",
        "colab": {}
      },
      "source": [
        "df_regioni_tranne_trentino_alto_adige = df_regioni_github.select(\"data\", \n",
        "                     \"denominazione_regione\", \n",
        "                     \"ricoverati_con_sintomi\",\n",
        "                     \"terapia_intensiva\",\n",
        "                     \"totale_ospedalizzati\",\n",
        "                     \"isolamento_domiciliare\",\n",
        "                     \"totale_attualmente_positivi\",\n",
        "                     \"nuovi_attualmente_positivi\",\n",
        "                     \"dimessi_guariti\",\n",
        "                     \"deceduti\",\n",
        "                     \"totale_casi\",\n",
        "                     \"tamponi\").where(\"denominazione_regione NOT IN ('P.A. Bolzano', 'P.A. Trento')\")                    "
      ],
      "execution_count": 0,
      "outputs": []
    },
    {
      "cell_type": "code",
      "metadata": {
        "id": "46UwGzAEpiO2",
        "colab_type": "code",
        "colab": {}
      },
      "source": [
        "df_regioni_trentino_alto_adige = df_regioni_github.where(\"denominazione_regione IN ('P.A. Bolzanoni', 'P.A. Trento')\")\n",
        "df_regioni_trentino_alto_adige = df_regioni_trentino_alto_adige.groupBy(\"data\").agg(\n",
        "      sum(\"ricoverati_con_sintomi\").alias(\"ricoverati_con_sintomi\"),\n",
        "      sum(\"terapia_intensiva\").alias(\"terapia_intensiva\"),\n",
        "      sum(\"totale_ospedalizzati\").alias(\"totale_ospedalizzati\"),\n",
        "      sum(\"isolamento_domiciliare\").alias(\"isolamento_domiciliare\"),\n",
        "      sum(\"totale_attualmente_positivi\").alias(\"totale_attualmente_positivi\"),\n",
        "      sum(\"nuovi_attualmente_positivi\").alias(\"nuovi_attualmente_positivi\"),\n",
        "      sum(\"dimessi_guariti\").alias(\"dimessi_guariti\"),\n",
        "      sum(\"deceduti\").alias(\"deceduti\"),\n",
        "      sum(\"totale_casi\").alias(\"totale_casi\"),\n",
        "      sum(\"tamponi\").alias(\"tamponi\")).withColumn(\"denominazione_regione\", lit(\"Trentino-Alto Adige\"))\n",
        "\n",
        "df_regioni_trentino_alto_adige = df_regioni_trentino_alto_adige.select(\"data\", \n",
        "                     \"denominazione_regione\", \n",
        "                     \"ricoverati_con_sintomi\",\n",
        "                     \"terapia_intensiva\",\n",
        "                     \"totale_ospedalizzati\",\n",
        "                     \"isolamento_domiciliare\",\n",
        "                     \"totale_attualmente_positivi\",\n",
        "                     \"nuovi_attualmente_positivi\",\n",
        "                     \"dimessi_guariti\",\n",
        "                     \"deceduti\",\n",
        "                     \"totale_casi\",\n",
        "                     \"tamponi\")"
      ],
      "execution_count": 0,
      "outputs": []
    },
    {
      "cell_type": "code",
      "metadata": {
        "id": "OGTsbg1QrUf1",
        "colab_type": "code",
        "colab": {}
      },
      "source": [
        "df_regioni_italia = df_italia.unionAll(df_regioni_trentino_alto_adige).unionAll(df_regioni_tranne_trentino_alto_adige).orderBy(\"data\", \"denominazione_regione\")"
      ],
      "execution_count": 0,
      "outputs": []
    },
    {
      "cell_type": "code",
      "metadata": {
        "id": "Lz_9hwN3r0EL",
        "colab_type": "code",
        "colab": {}
      },
      "source": [
        "df_regioni_italia.show()"
      ],
      "execution_count": 0,
      "outputs": []
    }
  ]
}